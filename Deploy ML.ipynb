{
 "cells": [
  {
   "cell_type": "code",
   "execution_count": 12,
   "id": "c4a609b1",
   "metadata": {},
   "outputs": [],
   "source": [
    "import warnings\n",
    "warnings.filterwarnings('ignore')\n",
    "import pandas as pd\n",
    "import numpy as np\n",
    "from sklearn.preprocessing import LabelEncoder\n",
    "from sklearn import preprocessing\n",
    "from sklearn.model_selection import train_test_split \n",
    "from sklearn.model_selection import GridSearchCV\n",
    "from sklearn.model_selection import cross_val_predict\n",
    "from sklearn.metrics import accuracy_score \n",
    "from sklearn.ensemble import RandomForestClassifier\n",
    "from sklearn.metrics import confusion_matrix, classification_report, roc_auc_score, roc_curve, f1_score, accuracy_score, recall_score, precision_score\n",
    "from sklearn.ensemble import AdaBoostClassifier, GradientBoostingClassifier\n",
    "import matplotlib.pyplot as plt\n",
    "import seaborn as sn\n",
    "from sklearn.manifold import TSNE\n",
    "import matplotlib.patches as mpatches\n",
    "import pickle"
   ]
  },
  {
   "cell_type": "code",
   "execution_count": 13,
   "id": "e7dc4997",
   "metadata": {},
   "outputs": [
    {
     "data": {
      "text/html": [
       "<div>\n",
       "<style scoped>\n",
       "    .dataframe tbody tr th:only-of-type {\n",
       "        vertical-align: middle;\n",
       "    }\n",
       "\n",
       "    .dataframe tbody tr th {\n",
       "        vertical-align: top;\n",
       "    }\n",
       "\n",
       "    .dataframe thead th {\n",
       "        text-align: right;\n",
       "    }\n",
       "</style>\n",
       "<table border=\"1\" class=\"dataframe\">\n",
       "  <thead>\n",
       "    <tr style=\"text-align: right;\">\n",
       "      <th></th>\n",
       "      <th>Nama</th>\n",
       "      <th>Email</th>\n",
       "      <th>Alamat Domisili</th>\n",
       "      <th>Provinsi Domisili</th>\n",
       "      <th>Kota Domisili</th>\n",
       "      <th>Kecamatan Domisili</th>\n",
       "      <th>Kelurahan Domisili</th>\n",
       "      <th>Alamat Ktp</th>\n",
       "      <th>Provinsi Ktp</th>\n",
       "      <th>Kota Ktp</th>\n",
       "      <th>...</th>\n",
       "      <th>Waktu Daftar</th>\n",
       "      <th>Tanggal Daftar</th>\n",
       "      <th>Bulan Daftar</th>\n",
       "      <th>Tahun Daftar</th>\n",
       "      <th>Status</th>\n",
       "      <th>Jenis Kelamin</th>\n",
       "      <th>Gaji Yang Diharapkan</th>\n",
       "      <th>Status Kelengkapan</th>\n",
       "      <th>Agama</th>\n",
       "      <th>Tahapan</th>\n",
       "    </tr>\n",
       "  </thead>\n",
       "  <tbody>\n",
       "    <tr>\n",
       "      <th>0</th>\n",
       "      <td>Indriyani</td>\n",
       "      <td>yaniindri8298@gmail.com</td>\n",
       "      <td>Jl. Duri B VII No. 7 RT/003 RW/004</td>\n",
       "      <td>DKI Jakarta</td>\n",
       "      <td>Kota Jakarta Pusat</td>\n",
       "      <td>Gambir</td>\n",
       "      <td>Duri Pulo</td>\n",
       "      <td>Jl. Duri B VII No. 7 RT/003 RW/004</td>\n",
       "      <td>DKI Jakarta</td>\n",
       "      <td>Kota Jakarta Pusat</td>\n",
       "      <td>...</td>\n",
       "      <td>2022-02-22 06:24:11</td>\n",
       "      <td>2022-02-22</td>\n",
       "      <td>February</td>\n",
       "      <td>2022</td>\n",
       "      <td>BANK DATA</td>\n",
       "      <td>Perempuan</td>\n",
       "      <td>Rp 5.000.000 - Rp 6.000.000</td>\n",
       "      <td>Lengkap</td>\n",
       "      <td>Islam</td>\n",
       "      <td>Tolak</td>\n",
       "    </tr>\n",
       "    <tr>\n",
       "      <th>1</th>\n",
       "      <td>Indriyani</td>\n",
       "      <td>indriyani.indri294@gmail.com</td>\n",
       "      <td>Serua Residence Blok A1 E1 Jalan Cinangka Bojo...</td>\n",
       "      <td>Jawa Barat</td>\n",
       "      <td>Kota Depok</td>\n",
       "      <td>Bojongsari</td>\n",
       "      <td>Pondok Petir</td>\n",
       "      <td>Cidodol RT 013 / RW 006 Grogol Selatan Kebayor...</td>\n",
       "      <td>DKI Jakarta</td>\n",
       "      <td>Kota Jakarta Selatan</td>\n",
       "      <td>...</td>\n",
       "      <td>2022-02-17 13:16:28</td>\n",
       "      <td>2022-02-17</td>\n",
       "      <td>February</td>\n",
       "      <td>2022</td>\n",
       "      <td>BANK DATA</td>\n",
       "      <td>Perempuan</td>\n",
       "      <td>-</td>\n",
       "      <td>Tidak Lengkap</td>\n",
       "      <td>Islam</td>\n",
       "      <td>Tolak</td>\n",
       "    </tr>\n",
       "    <tr>\n",
       "      <th>2</th>\n",
       "      <td>Rima Rahmawati</td>\n",
       "      <td>rimaarahma@gmail.com</td>\n",
       "      <td>Jl. Bendungan Hilir No. 13, Kel. Bendungan Hil...</td>\n",
       "      <td>Banten</td>\n",
       "      <td>Kota Tangerang Selatan</td>\n",
       "      <td>Ciputat</td>\n",
       "      <td>Ciputat</td>\n",
       "      <td>Jl. Kusuma Bhakti No. 49, Kel. Kubu Gulai Banc...</td>\n",
       "      <td>Sumatera Barat</td>\n",
       "      <td>Kota Bukittinggi</td>\n",
       "      <td>...</td>\n",
       "      <td>2022-02-22 09:22:22</td>\n",
       "      <td>2022-02-22</td>\n",
       "      <td>February</td>\n",
       "      <td>2022</td>\n",
       "      <td>BANK DATA</td>\n",
       "      <td>Perempuan</td>\n",
       "      <td>Sesuai standar UMP/UMR daerah</td>\n",
       "      <td>Lengkap</td>\n",
       "      <td>Islam</td>\n",
       "      <td>Diajukan</td>\n",
       "    </tr>\n",
       "    <tr>\n",
       "      <th>3</th>\n",
       "      <td>Siti nuraisyah</td>\n",
       "      <td>ainursiti14@gmail.com</td>\n",
       "      <td>Kp bambu baru, RT013/003</td>\n",
       "      <td>Banten</td>\n",
       "      <td>Kab. Tangerang</td>\n",
       "      <td>Pakuhaji</td>\n",
       "      <td>Rawa Boni</td>\n",
       "      <td>Kp bambu baru, RT013/003</td>\n",
       "      <td>Banten</td>\n",
       "      <td>Kab. Tangerang</td>\n",
       "      <td>...</td>\n",
       "      <td>2022-02-12 16:07:05</td>\n",
       "      <td>2022-02-12</td>\n",
       "      <td>February</td>\n",
       "      <td>2022</td>\n",
       "      <td>BANK DATA</td>\n",
       "      <td>Perempuan</td>\n",
       "      <td>Sesuai standar UMP/UMR daerah</td>\n",
       "      <td>Lengkap</td>\n",
       "      <td>Islam</td>\n",
       "      <td>Diajukan</td>\n",
       "    </tr>\n",
       "    <tr>\n",
       "      <th>4</th>\n",
       "      <td>Fitrianah</td>\n",
       "      <td>Fitrianahhh14@gmail.com</td>\n",
       "      <td>Kp.keranggan</td>\n",
       "      <td>Banten</td>\n",
       "      <td>Kota Tangerang Selatan</td>\n",
       "      <td>Setu</td>\n",
       "      <td>Keranggan</td>\n",
       "      <td>Kp.keranggan</td>\n",
       "      <td>Banten</td>\n",
       "      <td>Kota Tangerang Selatan</td>\n",
       "      <td>...</td>\n",
       "      <td>2022-02-19 07:48:48</td>\n",
       "      <td>2022-02-19</td>\n",
       "      <td>February</td>\n",
       "      <td>2022</td>\n",
       "      <td>MITRA</td>\n",
       "      <td>Perempuan</td>\n",
       "      <td>Sesuai standar UMP/UMR daerah</td>\n",
       "      <td>Lengkap</td>\n",
       "      <td>Islam</td>\n",
       "      <td>Diajukan</td>\n",
       "    </tr>\n",
       "  </tbody>\n",
       "</table>\n",
       "<p>5 rows × 35 columns</p>\n",
       "</div>"
      ],
      "text/plain": [
       "             Nama                         Email  \\\n",
       "0       Indriyani       yaniindri8298@gmail.com   \n",
       "1       Indriyani  indriyani.indri294@gmail.com   \n",
       "2  Rima Rahmawati          rimaarahma@gmail.com   \n",
       "3  Siti nuraisyah         ainursiti14@gmail.com   \n",
       "4       Fitrianah       Fitrianahhh14@gmail.com   \n",
       "\n",
       "                                     Alamat Domisili Provinsi Domisili  \\\n",
       "0                 Jl. Duri B VII No. 7 RT/003 RW/004       DKI Jakarta   \n",
       "1  Serua Residence Blok A1 E1 Jalan Cinangka Bojo...        Jawa Barat   \n",
       "2  Jl. Bendungan Hilir No. 13, Kel. Bendungan Hil...            Banten   \n",
       "3                           Kp bambu baru, RT013/003            Banten   \n",
       "4                                       Kp.keranggan            Banten   \n",
       "\n",
       "            Kota Domisili Kecamatan Domisili Kelurahan Domisili  \\\n",
       "0      Kota Jakarta Pusat             Gambir          Duri Pulo   \n",
       "1              Kota Depok         Bojongsari       Pondok Petir   \n",
       "2  Kota Tangerang Selatan            Ciputat            Ciputat   \n",
       "3          Kab. Tangerang           Pakuhaji          Rawa Boni   \n",
       "4  Kota Tangerang Selatan               Setu          Keranggan   \n",
       "\n",
       "                                          Alamat Ktp    Provinsi Ktp  \\\n",
       "0                 Jl. Duri B VII No. 7 RT/003 RW/004     DKI Jakarta   \n",
       "1  Cidodol RT 013 / RW 006 Grogol Selatan Kebayor...     DKI Jakarta   \n",
       "2  Jl. Kusuma Bhakti No. 49, Kel. Kubu Gulai Banc...  Sumatera Barat   \n",
       "3                           Kp bambu baru, RT013/003          Banten   \n",
       "4                                       Kp.keranggan          Banten   \n",
       "\n",
       "                 Kota Ktp  ...         Waktu Daftar Tanggal Daftar  \\\n",
       "0      Kota Jakarta Pusat  ...  2022-02-22 06:24:11     2022-02-22   \n",
       "1    Kota Jakarta Selatan  ...  2022-02-17 13:16:28     2022-02-17   \n",
       "2        Kota Bukittinggi  ...  2022-02-22 09:22:22     2022-02-22   \n",
       "3          Kab. Tangerang  ...  2022-02-12 16:07:05     2022-02-12   \n",
       "4  Kota Tangerang Selatan  ...  2022-02-19 07:48:48     2022-02-19   \n",
       "\n",
       "  Bulan Daftar Tahun Daftar     Status Jenis Kelamin  \\\n",
       "0     February         2022  BANK DATA     Perempuan   \n",
       "1     February         2022  BANK DATA     Perempuan   \n",
       "2     February         2022  BANK DATA     Perempuan   \n",
       "3     February         2022  BANK DATA     Perempuan   \n",
       "4     February         2022      MITRA     Perempuan   \n",
       "\n",
       "            Gaji Yang Diharapkan Status Kelengkapan  Agama   Tahapan  \n",
       "0    Rp 5.000.000 - Rp 6.000.000            Lengkap  Islam     Tolak  \n",
       "1                              -      Tidak Lengkap  Islam     Tolak  \n",
       "2  Sesuai standar UMP/UMR daerah            Lengkap  Islam  Diajukan  \n",
       "3  Sesuai standar UMP/UMR daerah            Lengkap  Islam  Diajukan  \n",
       "4  Sesuai standar UMP/UMR daerah            Lengkap  Islam  Diajukan  \n",
       "\n",
       "[5 rows x 35 columns]"
      ]
     },
     "execution_count": 13,
     "metadata": {},
     "output_type": "execute_result"
    }
   ],
   "source": [
    "dataframe = pd.read_excel('Data Awal.xlsx')\n",
    "dataframe.head()"
   ]
  },
  {
   "cell_type": "code",
   "execution_count": 14,
   "id": "e202b748",
   "metadata": {},
   "outputs": [
    {
     "data": {
      "text/plain": [
       "(1155, 35)"
      ]
     },
     "execution_count": 14,
     "metadata": {},
     "output_type": "execute_result"
    }
   ],
   "source": [
    "dataframe.shape"
   ]
  },
  {
   "cell_type": "code",
   "execution_count": 15,
   "id": "5220f129",
   "metadata": {},
   "outputs": [
    {
     "name": "stdout",
     "output_type": "stream",
     "text": [
      "<class 'pandas.core.frame.DataFrame'>\n",
      "RangeIndex: 1155 entries, 0 to 1154\n",
      "Data columns (total 35 columns):\n",
      " #   Column                Non-Null Count  Dtype  \n",
      "---  ------                --------------  -----  \n",
      " 0   Nama                  1155 non-null   object \n",
      " 1   Email                 1155 non-null   object \n",
      " 2   Alamat Domisili       1121 non-null   object \n",
      " 3   Provinsi Domisili     1074 non-null   object \n",
      " 4   Kota Domisili         1074 non-null   object \n",
      " 5   Kecamatan Domisili    553 non-null    object \n",
      " 6   Kelurahan Domisili    551 non-null    object \n",
      " 7   Alamat Ktp            1107 non-null   object \n",
      " 8   Provinsi Ktp          1061 non-null   object \n",
      " 9   Kota Ktp              1061 non-null   object \n",
      " 10  Kecamatan Ktp         535 non-null    object \n",
      " 11  Kelurahan Ktp         534 non-null    object \n",
      " 12  Tempat Lahir          1124 non-null   object \n",
      " 13  Tanggal Lahir         1124 non-null   object \n",
      " 14  Usia                  1121 non-null   float64\n",
      " 15  Telp 1                1154 non-null   object \n",
      " 16  Telp 2                454 non-null    object \n",
      " 17  Tingkat Pendidikan    1143 non-null   object \n",
      " 18  Institut Pendidikan   1143 non-null   object \n",
      " 19  Bidang Pendidikan     1143 non-null   object \n",
      " 20  Tahun Lulus           1143 non-null   float64\n",
      " 21  Nilai Akhir           1143 non-null   float64\n",
      " 22  Posisi Yang Dilamar   1155 non-null   object \n",
      " 23  Level                 1155 non-null   object \n",
      " 24  Pengalaman Pekerjaan  1155 non-null   object \n",
      " 25  Waktu Daftar          1155 non-null   object \n",
      " 26  Tanggal Daftar        1155 non-null   object \n",
      " 27  Bulan Daftar          1155 non-null   object \n",
      " 28  Tahun Daftar          1155 non-null   int64  \n",
      " 29  Status                1155 non-null   object \n",
      " 30  Jenis Kelamin         1124 non-null   object \n",
      " 31  Gaji Yang Diharapkan  644 non-null    object \n",
      " 32  Status Kelengkapan    1155 non-null   object \n",
      " 33  Agama                 1124 non-null   object \n",
      " 34  Tahapan               1155 non-null   object \n",
      "dtypes: float64(3), int64(1), object(31)\n",
      "memory usage: 315.9+ KB\n"
     ]
    }
   ],
   "source": [
    "dataframe.info()"
   ]
  },
  {
   "cell_type": "code",
   "execution_count": 16,
   "id": "4f74f99c",
   "metadata": {},
   "outputs": [
    {
     "data": {
      "text/plain": [
       "Nama                      0\n",
       "Email                     0\n",
       "Alamat Domisili          34\n",
       "Provinsi Domisili        81\n",
       "Kota Domisili            81\n",
       "Kecamatan Domisili      602\n",
       "Kelurahan Domisili      604\n",
       "Alamat Ktp               48\n",
       "Provinsi Ktp             94\n",
       "Kota Ktp                 94\n",
       "Kecamatan Ktp           620\n",
       "Kelurahan Ktp           621\n",
       "Tempat Lahir             31\n",
       "Tanggal Lahir            31\n",
       "Usia                     34\n",
       "Telp 1                    1\n",
       "Telp 2                  701\n",
       "Tingkat Pendidikan       12\n",
       "Institut Pendidikan      12\n",
       "Bidang Pendidikan        12\n",
       "Tahun Lulus              12\n",
       "Nilai Akhir              12\n",
       "Posisi Yang Dilamar       0\n",
       "Level                     0\n",
       "Pengalaman Pekerjaan      0\n",
       "Waktu Daftar              0\n",
       "Tanggal Daftar            0\n",
       "Bulan Daftar              0\n",
       "Tahun Daftar              0\n",
       "Status                    0\n",
       "Jenis Kelamin            31\n",
       "Gaji Yang Diharapkan    511\n",
       "Status Kelengkapan        0\n",
       "Agama                    31\n",
       "Tahapan                   0\n",
       "dtype: int64"
      ]
     },
     "execution_count": 16,
     "metadata": {},
     "output_type": "execute_result"
    }
   ],
   "source": [
    "dataframe.isnull().sum()"
   ]
  },
  {
   "cell_type": "code",
   "execution_count": 17,
   "id": "fe27b833",
   "metadata": {},
   "outputs": [],
   "source": [
    "df = dataframe.drop(['Nama', 'Email', 'Alamat Domisili', 'Provinsi Domisili', 'Kecamatan Domisili', 'Kelurahan Domisili', 'Alamat Ktp', 'Provinsi Ktp', 'Kota Ktp', 'Kecamatan Ktp', 'Kelurahan Ktp', 'Tempat Lahir', 'Tanggal Lahir', 'Telp 1', 'Telp 2', 'Institut Pendidikan', 'Bidang Pendidikan', 'Tahun Lulus', 'Nilai Akhir', 'Level', 'Waktu Daftar', 'Tanggal Daftar', 'Bulan Daftar', 'Status', 'Tahun Daftar', 'Gaji Yang Diharapkan'], axis=1)"
   ]
  },
  {
   "cell_type": "code",
   "execution_count": 18,
   "id": "67c65f0c",
   "metadata": {},
   "outputs": [
    {
     "name": "stdout",
     "output_type": "stream",
     "text": [
      "<class 'pandas.core.frame.DataFrame'>\n",
      "RangeIndex: 1155 entries, 0 to 1154\n",
      "Data columns (total 9 columns):\n",
      " #   Column                Non-Null Count  Dtype  \n",
      "---  ------                --------------  -----  \n",
      " 0   Kota Domisili         1074 non-null   object \n",
      " 1   Usia                  1121 non-null   float64\n",
      " 2   Tingkat Pendidikan    1143 non-null   object \n",
      " 3   Posisi Yang Dilamar   1155 non-null   object \n",
      " 4   Pengalaman Pekerjaan  1155 non-null   object \n",
      " 5   Jenis Kelamin         1124 non-null   object \n",
      " 6   Status Kelengkapan    1155 non-null   object \n",
      " 7   Agama                 1124 non-null   object \n",
      " 8   Tahapan               1155 non-null   object \n",
      "dtypes: float64(1), object(8)\n",
      "memory usage: 81.3+ KB\n"
     ]
    }
   ],
   "source": [
    "df.info()"
   ]
  },
  {
   "cell_type": "code",
   "execution_count": 19,
   "id": "d5f1a9df",
   "metadata": {},
   "outputs": [
    {
     "data": {
      "text/plain": [
       "Kota Domisili           81\n",
       "Usia                    34\n",
       "Jenis Kelamin           31\n",
       "Agama                   31\n",
       "Tingkat Pendidikan      12\n",
       "Posisi Yang Dilamar      0\n",
       "Pengalaman Pekerjaan     0\n",
       "Status Kelengkapan       0\n",
       "Tahapan                  0\n",
       "dtype: int64"
      ]
     },
     "execution_count": 19,
     "metadata": {},
     "output_type": "execute_result"
    }
   ],
   "source": [
    "df.isnull().sum().sort_values(ascending=False)"
   ]
  },
  {
   "cell_type": "code",
   "execution_count": 20,
   "id": "21355df4",
   "metadata": {},
   "outputs": [],
   "source": [
    "df['Kota Domisili'].fillna(df['Kota Domisili'].mode()[0],inplace=True)\n",
    "df['Usia'].fillna(df['Usia'].mean(),inplace=True)\n",
    "df['Tingkat Pendidikan'].fillna(df['Tingkat Pendidikan'].mode()[0],inplace=True)\n",
    "df['Jenis Kelamin'].fillna(df['Jenis Kelamin'].mode()[0],inplace=True)\n",
    "df['Agama'].fillna(df['Agama'].mode()[0],inplace=True)"
   ]
  },
  {
   "cell_type": "code",
   "execution_count": 21,
   "id": "e710103c",
   "metadata": {},
   "outputs": [
    {
     "data": {
      "text/plain": [
       "Kota Domisili           0\n",
       "Usia                    0\n",
       "Tingkat Pendidikan      0\n",
       "Posisi Yang Dilamar     0\n",
       "Pengalaman Pekerjaan    0\n",
       "Jenis Kelamin           0\n",
       "Status Kelengkapan      0\n",
       "Agama                   0\n",
       "Tahapan                 0\n",
       "dtype: int64"
      ]
     },
     "execution_count": 21,
     "metadata": {},
     "output_type": "execute_result"
    }
   ],
   "source": [
    "df.isnull().sum().sort_values(ascending=False)"
   ]
  },
  {
   "cell_type": "code",
   "execution_count": 22,
   "id": "8b0fdd39",
   "metadata": {},
   "outputs": [
    {
     "data": {
      "text/plain": [
       "24.000000    0.116017\n",
       "23.000000    0.104762\n",
       "21.000000    0.104762\n",
       "22.000000    0.094372\n",
       "20.000000    0.087446\n",
       "25.000000    0.074459\n",
       "26.000000    0.064069\n",
       "27.000000    0.052814\n",
       "19.000000    0.049351\n",
       "29.000000    0.039827\n",
       "28.000000    0.038961\n",
       "25.055308    0.029437\n",
       "30.000000    0.025108\n",
       "32.000000    0.022511\n",
       "31.000000    0.018182\n",
       "34.000000    0.013853\n",
       "36.000000    0.011255\n",
       "33.000000    0.010390\n",
       "39.000000    0.007792\n",
       "40.000000    0.006061\n",
       "38.000000    0.006061\n",
       "35.000000    0.004329\n",
       "37.000000    0.004329\n",
       "44.000000    0.002597\n",
       "45.000000    0.001732\n",
       "41.000000    0.001732\n",
       "43.000000    0.001732\n",
       "47.000000    0.001732\n",
       "42.000000    0.001732\n",
       "46.000000    0.000866\n",
       "48.000000    0.000866\n",
       "51.000000    0.000866\n",
       "Name: Usia, dtype: float64"
      ]
     },
     "execution_count": 22,
     "metadata": {},
     "output_type": "execute_result"
    }
   ],
   "source": [
    "persentase = df['Usia'].value_counts(normalize=True)\n",
    "persentase"
   ]
  },
  {
   "cell_type": "code",
   "execution_count": 23,
   "id": "07f20c40",
   "metadata": {},
   "outputs": [
    {
     "data": {
      "text/plain": [
       "Float64Index([              24.0,               23.0,               21.0,\n",
       "                            22.0,               20.0,               25.0,\n",
       "                            26.0,               27.0,               19.0,\n",
       "                            29.0,               28.0, 25.055307760927743,\n",
       "                            30.0],\n",
       "             dtype='float64')"
      ]
     },
     "execution_count": 23,
     "metadata": {},
     "output_type": "execute_result"
    }
   ],
   "source": [
    "threshold = 0.025\n",
    "B = persentase[persentase < threshold].index\n",
    "A = persentase[persentase > threshold].index\n",
    "B\n",
    "A"
   ]
  },
  {
   "cell_type": "code",
   "execution_count": 24,
   "id": "2549e45a",
   "metadata": {},
   "outputs": [
    {
     "data": {
      "text/plain": [
       "0       <30\n",
       "1       <30\n",
       "2       <30\n",
       "3       <30\n",
       "4       <30\n",
       "       ... \n",
       "1150    <30\n",
       "1151    <30\n",
       "1152    <30\n",
       "1153    <30\n",
       "1154    <30\n",
       "Name: Usia, Length: 1155, dtype: object"
      ]
     },
     "execution_count": 24,
     "metadata": {},
     "output_type": "execute_result"
    }
   ],
   "source": [
    "df['Usia'] = df['Usia'].replace(A, '<30')\n",
    "df['Usia'] = df['Usia'].replace(B, '>30')\n",
    "\n",
    "df['Usia']"
   ]
  },
  {
   "cell_type": "code",
   "execution_count": 25,
   "id": "eb1ea44a",
   "metadata": {},
   "outputs": [
    {
     "data": {
      "text/plain": [
       "Kota Tangerang Selatan    0.400866\n",
       "Kota Tangerang            0.140260\n",
       "Kab. Tangerang            0.064935\n",
       "Kota Depok                0.052814\n",
       "Kota Jakarta Selatan      0.049351\n",
       "                            ...   \n",
       "Kota Cirebon              0.000866\n",
       "Kota Yogyakarta           0.000866\n",
       "Kab. Deli Serdang         0.000866\n",
       "Kab. Banyumas             0.000866\n",
       "Kab. Lebong               0.000866\n",
       "Name: Kota Domisili, Length: 64, dtype: float64"
      ]
     },
     "execution_count": 25,
     "metadata": {},
     "output_type": "execute_result"
    }
   ],
   "source": [
    "persentase = df['Kota Domisili'].value_counts(normalize=True)\n",
    "persentase"
   ]
  },
  {
   "cell_type": "code",
   "execution_count": 26,
   "id": "4d4f67b4",
   "metadata": {},
   "outputs": [
    {
     "data": {
      "text/plain": [
       "Index(['Kota Tangerang Selatan', 'Kota Tangerang', 'Kab. Tangerang'], dtype='object')"
      ]
     },
     "execution_count": 26,
     "metadata": {},
     "output_type": "execute_result"
    }
   ],
   "source": [
    "threshold = 0.06\n",
    "luar_kota = persentase[persentase < threshold].index\n",
    "dalam_kota = persentase[persentase > threshold].index\n",
    "luar_kota\n",
    "dalam_kota"
   ]
  },
  {
   "cell_type": "code",
   "execution_count": 27,
   "id": "65b6924c",
   "metadata": {},
   "outputs": [
    {
     "data": {
      "text/plain": [
       "0       Luar wilayah Tangerang\n",
       "1       Luar wilayah Tangerang\n",
       "2            Wilayah Tangerang\n",
       "3            Wilayah Tangerang\n",
       "4            Wilayah Tangerang\n",
       "                 ...          \n",
       "1150         Wilayah Tangerang\n",
       "1151         Wilayah Tangerang\n",
       "1152    Luar wilayah Tangerang\n",
       "1153    Luar wilayah Tangerang\n",
       "1154    Luar wilayah Tangerang\n",
       "Name: Kota Domisili, Length: 1155, dtype: object"
      ]
     },
     "execution_count": 27,
     "metadata": {},
     "output_type": "execute_result"
    }
   ],
   "source": [
    "df['Kota Domisili'] = df['Kota Domisili'].replace(luar_kota, 'Luar wilayah Tangerang')\n",
    "df['Kota Domisili'] = df['Kota Domisili'].replace(dalam_kota, 'Wilayah Tangerang')\n",
    "\n",
    "df['Kota Domisili']"
   ]
  },
  {
   "cell_type": "code",
   "execution_count": 28,
   "id": "0934c075",
   "metadata": {},
   "outputs": [
    {
     "data": {
      "text/html": [
       "<div>\n",
       "<style scoped>\n",
       "    .dataframe tbody tr th:only-of-type {\n",
       "        vertical-align: middle;\n",
       "    }\n",
       "\n",
       "    .dataframe tbody tr th {\n",
       "        vertical-align: top;\n",
       "    }\n",
       "\n",
       "    .dataframe thead th {\n",
       "        text-align: right;\n",
       "    }\n",
       "</style>\n",
       "<table border=\"1\" class=\"dataframe\">\n",
       "  <thead>\n",
       "    <tr style=\"text-align: right;\">\n",
       "      <th></th>\n",
       "      <th>Kota Domisili</th>\n",
       "      <th>Usia</th>\n",
       "      <th>Tingkat Pendidikan</th>\n",
       "      <th>Posisi Yang Dilamar</th>\n",
       "      <th>Pengalaman Pekerjaan</th>\n",
       "      <th>Jenis Kelamin</th>\n",
       "      <th>Status Kelengkapan</th>\n",
       "      <th>Agama</th>\n",
       "      <th>Tahapan</th>\n",
       "    </tr>\n",
       "  </thead>\n",
       "  <tbody>\n",
       "    <tr>\n",
       "      <th>0</th>\n",
       "      <td>Luar wilayah Tangerang</td>\n",
       "      <td>&lt;30</td>\n",
       "      <td>S1</td>\n",
       "      <td>Telemarketing</td>\n",
       "      <td>Ada</td>\n",
       "      <td>Perempuan</td>\n",
       "      <td>Lengkap</td>\n",
       "      <td>Islam</td>\n",
       "      <td>Tolak</td>\n",
       "    </tr>\n",
       "    <tr>\n",
       "      <th>1</th>\n",
       "      <td>Luar wilayah Tangerang</td>\n",
       "      <td>&lt;30</td>\n",
       "      <td>S1</td>\n",
       "      <td>Telemarketing</td>\n",
       "      <td>Ada</td>\n",
       "      <td>Perempuan</td>\n",
       "      <td>Tidak Lengkap</td>\n",
       "      <td>Islam</td>\n",
       "      <td>Tolak</td>\n",
       "    </tr>\n",
       "    <tr>\n",
       "      <th>2</th>\n",
       "      <td>Wilayah Tangerang</td>\n",
       "      <td>&lt;30</td>\n",
       "      <td>S1</td>\n",
       "      <td>Telemarketing</td>\n",
       "      <td>Ada</td>\n",
       "      <td>Perempuan</td>\n",
       "      <td>Lengkap</td>\n",
       "      <td>Islam</td>\n",
       "      <td>Diajukan</td>\n",
       "    </tr>\n",
       "    <tr>\n",
       "      <th>3</th>\n",
       "      <td>Wilayah Tangerang</td>\n",
       "      <td>&lt;30</td>\n",
       "      <td>SMA/SMK</td>\n",
       "      <td>Telesales</td>\n",
       "      <td>Ada</td>\n",
       "      <td>Perempuan</td>\n",
       "      <td>Lengkap</td>\n",
       "      <td>Islam</td>\n",
       "      <td>Diajukan</td>\n",
       "    </tr>\n",
       "    <tr>\n",
       "      <th>4</th>\n",
       "      <td>Wilayah Tangerang</td>\n",
       "      <td>&lt;30</td>\n",
       "      <td>SMA/SMK</td>\n",
       "      <td>Sales Marketing</td>\n",
       "      <td>Ada</td>\n",
       "      <td>Perempuan</td>\n",
       "      <td>Lengkap</td>\n",
       "      <td>Islam</td>\n",
       "      <td>Diajukan</td>\n",
       "    </tr>\n",
       "  </tbody>\n",
       "</table>\n",
       "</div>"
      ],
      "text/plain": [
       "            Kota Domisili Usia Tingkat Pendidikan Posisi Yang Dilamar  \\\n",
       "0  Luar wilayah Tangerang  <30                 S1       Telemarketing   \n",
       "1  Luar wilayah Tangerang  <30                 S1       Telemarketing   \n",
       "2       Wilayah Tangerang  <30                 S1       Telemarketing   \n",
       "3       Wilayah Tangerang  <30            SMA/SMK           Telesales   \n",
       "4       Wilayah Tangerang  <30            SMA/SMK     Sales Marketing   \n",
       "\n",
       "  Pengalaman Pekerjaan Jenis Kelamin Status Kelengkapan  Agama   Tahapan  \n",
       "0                  Ada     Perempuan            Lengkap  Islam     Tolak  \n",
       "1                  Ada     Perempuan      Tidak Lengkap  Islam     Tolak  \n",
       "2                  Ada     Perempuan            Lengkap  Islam  Diajukan  \n",
       "3                  Ada     Perempuan            Lengkap  Islam  Diajukan  \n",
       "4                  Ada     Perempuan            Lengkap  Islam  Diajukan  "
      ]
     },
     "execution_count": 28,
     "metadata": {},
     "output_type": "execute_result"
    }
   ],
   "source": [
    "df.head()"
   ]
  },
  {
   "cell_type": "code",
   "execution_count": 29,
   "id": "bb374c7b",
   "metadata": {},
   "outputs": [
    {
     "name": "stdout",
     "output_type": "stream",
     "text": [
      "Wilayah Tangerang         700\n",
      "Luar wilayah Tangerang    455\n",
      "Name: Kota Domisili, dtype: int64\n",
      "<30    1018\n",
      ">30     137\n",
      "Name: Usia, dtype: int64\n",
      "SMA/SMK    815\n",
      "S1         269\n",
      "D3          71\n",
      "Name: Tingkat Pendidikan, dtype: int64\n",
      "Telesales          1021\n",
      "Telemarketing       110\n",
      "Sales Marketing      24\n",
      "Name: Posisi Yang Dilamar, dtype: int64\n",
      "Ada          974\n",
      "Tidak ada    181\n",
      "Name: Pengalaman Pekerjaan, dtype: int64\n",
      "Perempuan    710\n",
      "Laki-Laki    445\n",
      "Name: Jenis Kelamin, dtype: int64\n",
      "Lengkap          975\n",
      "Tidak Lengkap    180\n",
      "Name: Status Kelengkapan, dtype: int64\n",
      "Islam                1088\n",
      "Kristen Protestan      52\n",
      "Kristen Katolik        10\n",
      "Buddha                  4\n",
      "Konghucu                1\n",
      "Name: Agama, dtype: int64\n",
      "Tolak       690\n",
      "Diajukan    465\n",
      "Name: Tahapan, dtype: int64\n"
     ]
    }
   ],
   "source": [
    "for col in df:\n",
    "    \n",
    "    print(df[col].value_counts())"
   ]
  },
  {
   "cell_type": "code",
   "execution_count": 30,
   "id": "9548a870",
   "metadata": {},
   "outputs": [
    {
     "data": {
      "text/plain": [
       "<AxesSubplot:ylabel='Tahapan'>"
      ]
     },
     "execution_count": 30,
     "metadata": {},
     "output_type": "execute_result"
    },
    {
     "data": {
      "image/png": "[encoded data removed]",
      "text/plain": [
       "<Figure size 1080x360 with 1 Axes>"
      ]
     },
     "metadata": {},
     "output_type": "display_data"
    }
   ],
   "source": [
    "f,ax = plt.subplots(figsize=(15,5))\n",
    "df['Tahapan'].value_counts().plot.pie(autopct='%1.1f%%',shadow=True)"
   ]
  },
  {
   "cell_type": "code",
   "execution_count": 34,
   "id": "a897a5fa",
   "metadata": {},
   "outputs": [
    {
     "data": {
      "text/plain": [
       "Text(0.5, 1.0, 'Tolak vs Diajukan')"
      ]
     },
     "execution_count": 34,
     "metadata": {},
     "output_type": "execute_result"
    },
    {
     "data": {
      "image/png": "[encoded data removed]",
      "text/plain": [
       "<Figure size 720x360 with 1 Axes>"
      ]
     },
     "metadata": {
      "needs_background": "light"
     },
     "output_type": "display_data"
    }
   ],
   "source": [
    "plt.figure(figsize=(10,5))\n",
    "ax = df.Tahapan.value_counts().plot(kind = 'bar')\n",
    "plt.xticks(rotation=0)\n",
    "plt.xlabel(\"Tahapan Data Pelamar\")\n",
    "plt.ylabel(\"Count\")\n",
    "plt.title(\"Tolak vs Diajukan\")"
   ]
  },
  {
   "cell_type": "code",
   "execution_count": 35,
   "id": "4abf1660",
   "metadata": {},
   "outputs": [],
   "source": [
    "# encode column kota domisili\n",
    "obj_kd = {'Luar wilayah Tangerang':0, 'Wilayah Tangerang':1}\n",
    "df['Kota Domisili'] = df['Kota Domisili'].replace(obj_kd)\n",
    "\n",
    "# encode column usia\n",
    "obj_usia = {'>30':0, '<30':1}\n",
    "df['Usia'] = df['Usia'].replace(obj_usia)\n",
    "\n",
    "# encode column pengalaman pekerjaan\n",
    "obj_pp = {'Tidak ada':0, 'Ada':1}\n",
    "df['Pengalaman Pekerjaan'] = df['Pengalaman Pekerjaan'].replace(obj_pp)\n",
    "\n",
    "# encode column jenis kelamin\n",
    "obj_jk = {'Perempuan':0, 'Laki-Laki':1}\n",
    "df['Jenis Kelamin'] = df['Jenis Kelamin'].replace(obj_jk)\n",
    "\n",
    "# encode column status kelengkapan\n",
    "obj_sk = {'Tidak Lengkap':0, 'Lengkap':1}\n",
    "df['Status Kelengkapan'] = df['Status Kelengkapan'].replace(obj_sk)\n",
    "\n",
    "# encode column tahapan\n",
    "obj_tahapan = {'Tolak':0, 'Diajukan':1}\n",
    "df['Tahapan'] = df['Tahapan'].replace(obj_tahapan)\n"
   ]
  },
  {
   "cell_type": "code",
   "execution_count": 36,
   "id": "10644973",
   "metadata": {},
   "outputs": [
    {
     "data": {
      "text/plain": [
       "['D3', 'S1', 'SMA/SMK']"
      ]
     },
     "execution_count": 36,
     "metadata": {},
     "output_type": "execute_result"
    }
   ],
   "source": [
    "le = LabelEncoder()\n",
    "le.fit(df['Tingkat Pendidikan'])\n",
    "list(le.classes_)"
   ]
  },
  {
   "cell_type": "code",
   "execution_count": 37,
   "id": "f1d21008",
   "metadata": {},
   "outputs": [
    {
     "name": "stdout",
     "output_type": "stream",
     "text": [
      "[0 1 2]\n"
     ]
    }
   ],
   "source": [
    "df['Tingkat Pendidikan']=le.transform(df['Tingkat Pendidikan'])\n",
    "\n",
    "print(np.sort(df['Tingkat Pendidikan'].unique()))"
   ]
  },
  {
   "cell_type": "code",
   "execution_count": 38,
   "id": "887c1aeb",
   "metadata": {},
   "outputs": [
    {
     "data": {
      "text/plain": [
       "['Sales Marketing', 'Telemarketing', 'Telesales']"
      ]
     },
     "execution_count": 38,
     "metadata": {},
     "output_type": "execute_result"
    }
   ],
   "source": [
    "le = LabelEncoder()\n",
    "le.fit(df['Posisi Yang Dilamar'])\n",
    "list(le.classes_)"
   ]
  },
  {
   "cell_type": "code",
   "execution_count": 39,
   "id": "90bfddd8",
   "metadata": {},
   "outputs": [
    {
     "name": "stdout",
     "output_type": "stream",
     "text": [
      "[0 1 2]\n"
     ]
    }
   ],
   "source": [
    "df['Posisi Yang Dilamar']=le.transform(df['Posisi Yang Dilamar'])\n",
    "\n",
    "print(np.sort(df['Posisi Yang Dilamar'].unique()))"
   ]
  },
  {
   "cell_type": "code",
   "execution_count": 40,
   "id": "b60b1bba",
   "metadata": {},
   "outputs": [
    {
     "data": {
      "text/plain": [
       "['Buddha', 'Islam', 'Konghucu', 'Kristen Katolik', 'Kristen Protestan']"
      ]
     },
     "execution_count": 40,
     "metadata": {},
     "output_type": "execute_result"
    }
   ],
   "source": [
    "le = LabelEncoder()\n",
    "le.fit(df['Agama'])\n",
    "list(le.classes_)"
   ]
  },
  {
   "cell_type": "code",
   "execution_count": 41,
   "id": "902870c7",
   "metadata": {},
   "outputs": [
    {
     "name": "stdout",
     "output_type": "stream",
     "text": [
      "[0 1 2 3 4]\n"
     ]
    }
   ],
   "source": [
    "df['Agama']=le.transform(df['Agama'])\n",
    "\n",
    "print(np.sort(df['Agama'].unique()))"
   ]
  },
  {
   "cell_type": "code",
   "execution_count": 42,
   "id": "94280d2f",
   "metadata": {},
   "outputs": [
    {
     "data": {
      "text/html": [
       "<div>\n",
       "<style scoped>\n",
       "    .dataframe tbody tr th:only-of-type {\n",
       "        vertical-align: middle;\n",
       "    }\n",
       "\n",
       "    .dataframe tbody tr th {\n",
       "        vertical-align: top;\n",
       "    }\n",
       "\n",
       "    .dataframe thead th {\n",
       "        text-align: right;\n",
       "    }\n",
       "</style>\n",
       "<table border=\"1\" class=\"dataframe\">\n",
       "  <thead>\n",
       "    <tr style=\"text-align: right;\">\n",
       "      <th></th>\n",
       "      <th>Kota Domisili</th>\n",
       "      <th>Usia</th>\n",
       "      <th>Tingkat Pendidikan</th>\n",
       "      <th>Posisi Yang Dilamar</th>\n",
       "      <th>Pengalaman Pekerjaan</th>\n",
       "      <th>Jenis Kelamin</th>\n",
       "      <th>Status Kelengkapan</th>\n",
       "      <th>Agama</th>\n",
       "      <th>Tahapan</th>\n",
       "    </tr>\n",
       "  </thead>\n",
       "  <tbody>\n",
       "    <tr>\n",
       "      <th>0</th>\n",
       "      <td>0</td>\n",
       "      <td>1</td>\n",
       "      <td>1</td>\n",
       "      <td>1</td>\n",
       "      <td>1</td>\n",
       "      <td>0</td>\n",
       "      <td>1</td>\n",
       "      <td>1</td>\n",
       "      <td>0</td>\n",
       "    </tr>\n",
       "    <tr>\n",
       "      <th>1</th>\n",
       "      <td>0</td>\n",
       "      <td>1</td>\n",
       "      <td>1</td>\n",
       "      <td>1</td>\n",
       "      <td>1</td>\n",
       "      <td>0</td>\n",
       "      <td>0</td>\n",
       "      <td>1</td>\n",
       "      <td>0</td>\n",
       "    </tr>\n",
       "    <tr>\n",
       "      <th>2</th>\n",
       "      <td>1</td>\n",
       "      <td>1</td>\n",
       "      <td>1</td>\n",
       "      <td>1</td>\n",
       "      <td>1</td>\n",
       "      <td>0</td>\n",
       "      <td>1</td>\n",
       "      <td>1</td>\n",
       "      <td>1</td>\n",
       "    </tr>\n",
       "    <tr>\n",
       "      <th>3</th>\n",
       "      <td>1</td>\n",
       "      <td>1</td>\n",
       "      <td>2</td>\n",
       "      <td>2</td>\n",
       "      <td>1</td>\n",
       "      <td>0</td>\n",
       "      <td>1</td>\n",
       "      <td>1</td>\n",
       "      <td>1</td>\n",
       "    </tr>\n",
       "    <tr>\n",
       "      <th>4</th>\n",
       "      <td>1</td>\n",
       "      <td>1</td>\n",
       "      <td>2</td>\n",
       "      <td>0</td>\n",
       "      <td>1</td>\n",
       "      <td>0</td>\n",
       "      <td>1</td>\n",
       "      <td>1</td>\n",
       "      <td>1</td>\n",
       "    </tr>\n",
       "  </tbody>\n",
       "</table>\n",
       "</div>"
      ],
      "text/plain": [
       "   Kota Domisili  Usia  Tingkat Pendidikan  Posisi Yang Dilamar  \\\n",
       "0              0     1                   1                    1   \n",
       "1              0     1                   1                    1   \n",
       "2              1     1                   1                    1   \n",
       "3              1     1                   2                    2   \n",
       "4              1     1                   2                    0   \n",
       "\n",
       "   Pengalaman Pekerjaan  Jenis Kelamin  Status Kelengkapan  Agama  Tahapan  \n",
       "0                     1              0                   1      1        0  \n",
       "1                     1              0                   0      1        0  \n",
       "2                     1              0                   1      1        1  \n",
       "3                     1              0                   1      1        1  \n",
       "4                     1              0                   1      1        1  "
      ]
     },
     "execution_count": 42,
     "metadata": {},
     "output_type": "execute_result"
    }
   ],
   "source": [
    "df.head()"
   ]
  },
  {
   "cell_type": "code",
   "execution_count": 43,
   "id": "d497255c",
   "metadata": {},
   "outputs": [
    {
     "data": {
      "image/png": "[encoded data removed]",
      "text/plain": [
       "<Figure size 576x864 with 2 Axes>"
      ]
     },
     "metadata": {
      "needs_background": "light"
     },
     "output_type": "display_data"
    }
   ],
   "source": [
    "plt.figure(figsize=(8, 12))\n",
    "heatmap = sn.heatmap(df.corr()[['Tahapan']].sort_values(by='Tahapan', ascending=False), vmin=-1, vmax=1, annot=True, cmap='BrBG')\n",
    "heatmap.set_title('Features Correlating with Tahapan', fontdict={'fontsize':18}, pad=16);"
   ]
  },
  {
   "cell_type": "code",
   "execution_count": 44,
   "id": "fe9dc04c",
   "metadata": {},
   "outputs": [],
   "source": [
    "X = df.drop(['Jenis Kelamin', 'Agama', 'Tahapan'], axis=1)\n",
    "\n",
    "y = df['Tahapan']"
   ]
  },
  {
   "cell_type": "code",
   "execution_count": 45,
   "id": "5f4a4155",
   "metadata": {},
   "outputs": [],
   "source": [
    "from sklearn.model_selection import train_test_split\n",
    "\n",
    "X_train, X_test, y_train, y_test = train_test_split(X, y, test_size = 0.30, random_state = 42)"
   ]
  },
  {
   "cell_type": "code",
   "execution_count": 48,
   "id": "e7db1714",
   "metadata": {},
   "outputs": [
    {
     "name": "stdout",
     "output_type": "stream",
     "text": [
      "[[194   6]\n",
      " [  0 147]]\n",
      "              precision    recall  f1-score   support\n",
      "\n",
      "           0       1.00      0.97      0.98       200\n",
      "           1       0.96      1.00      0.98       147\n",
      "\n",
      "    accuracy                           0.98       347\n",
      "   macro avg       0.98      0.98      0.98       347\n",
      "weighted avg       0.98      0.98      0.98       347\n",
      "\n",
      "Accuracy Score: 0.9827089337175793\n",
      "Recall Score: 1.0\n",
      "Precision Score: 0.9607843137254902\n"
     ]
    }
   ],
   "source": [
    "clf = RandomForestClassifier(random_state=42, max_features='auto', min_samples_leaf=2, n_estimators= 50, max_depth=4, criterion='entropy')\n",
    "clf.fit(X_train, y_train)\n",
    "y_pred = clf.predict(X_test)\n",
    "print(confusion_matrix(y_test, y_pred))\n",
    "print(classification_report(y_test, y_pred))\n",
    "print(\"Accuracy Score:\", accuracy_score(y_test,y_pred))\n",
    "print(\"Recall Score:\", recall_score(y_test, y_pred))\n",
    "print(\"Precision Score:\", precision_score(y_test, y_pred))"
   ]
  },
  {
   "cell_type": "code",
   "execution_count": 49,
   "id": "3e82c710",
   "metadata": {},
   "outputs": [
    {
     "data": {
      "text/html": [
       "<div>\n",
       "<style scoped>\n",
       "    .dataframe tbody tr th:only-of-type {\n",
       "        vertical-align: middle;\n",
       "    }\n",
       "\n",
       "    .dataframe tbody tr th {\n",
       "        vertical-align: top;\n",
       "    }\n",
       "\n",
       "    .dataframe thead th {\n",
       "        text-align: right;\n",
       "    }\n",
       "</style>\n",
       "<table border=\"1\" class=\"dataframe\">\n",
       "  <thead>\n",
       "    <tr style=\"text-align: right;\">\n",
       "      <th></th>\n",
       "      <th>Feature</th>\n",
       "      <th>Importance</th>\n",
       "    </tr>\n",
       "  </thead>\n",
       "  <tbody>\n",
       "    <tr>\n",
       "      <th>0</th>\n",
       "      <td>Kota Domisili</td>\n",
       "      <td>0.537007</td>\n",
       "    </tr>\n",
       "    <tr>\n",
       "      <th>5</th>\n",
       "      <td>Status Kelengkapan</td>\n",
       "      <td>0.180132</td>\n",
       "    </tr>\n",
       "    <tr>\n",
       "      <th>4</th>\n",
       "      <td>Pengalaman Pekerjaan</td>\n",
       "      <td>0.131210</td>\n",
       "    </tr>\n",
       "    <tr>\n",
       "      <th>1</th>\n",
       "      <td>Usia</td>\n",
       "      <td>0.113324</td>\n",
       "    </tr>\n",
       "    <tr>\n",
       "      <th>3</th>\n",
       "      <td>Posisi Yang Dilamar</td>\n",
       "      <td>0.024006</td>\n",
       "    </tr>\n",
       "    <tr>\n",
       "      <th>2</th>\n",
       "      <td>Tingkat Pendidikan</td>\n",
       "      <td>0.014321</td>\n",
       "    </tr>\n",
       "  </tbody>\n",
       "</table>\n",
       "</div>"
      ],
      "text/plain": [
       "                Feature  Importance\n",
       "0         Kota Domisili    0.537007\n",
       "5    Status Kelengkapan    0.180132\n",
       "4  Pengalaman Pekerjaan    0.131210\n",
       "1                  Usia    0.113324\n",
       "3   Posisi Yang Dilamar    0.024006\n",
       "2    Tingkat Pendidikan    0.014321"
      ]
     },
     "execution_count": 49,
     "metadata": {},
     "output_type": "execute_result"
    }
   ],
   "source": [
    "feature_importance_df = pd.DataFrame(X_train.columns, columns=[\"Feature\"])\n",
    "feature_importance_df[\"Importance\"] = clf.feature_importances_\n",
    "feature_importance_df.sort_values('Importance', ascending=False, inplace=True)\n",
    "feature_importance_df = feature_importance_df.head(20)\n",
    "feature_importance_df"
   ]
  },
  {
   "cell_type": "code",
   "execution_count": 51,
   "id": "6efb02e7",
   "metadata": {},
   "outputs": [
    {
     "data": {
      "text/plain": [
       "Text(0.5, 1.0, 'Plot Feature Importances')"
      ]
     },
     "execution_count": 51,
     "metadata": {},
     "output_type": "execute_result"
    },
    {
     "data": {
      "image/png": "[encoded data removed]",
      "text/plain": [
       "<Figure size 1080x360 with 1 Axes>"
      ]
     },
     "metadata": {
      "needs_background": "light"
     },
     "output_type": "display_data"
    }
   ],
   "source": [
    "plt.figure(figsize=(15,5))\n",
    "ax = feature_importance_df['Feature']\n",
    "plt.bar(range(feature_importance_df.shape[0]), feature_importance_df['Importance']*100)\n",
    "plt.xticks(range(feature_importance_df.shape[0]), feature_importance_df['Feature'], rotation = 0)\n",
    "plt.xlabel(\"Features\")\n",
    "plt.ylabel(\"Importance\")\n",
    "plt.title(\"Plot Feature Importances\")"
   ]
  },
  {
   "cell_type": "code",
   "execution_count": 54,
   "id": "43f99410",
   "metadata": {},
   "outputs": [],
   "source": [
    "pickle_out = open(\"model.pkl\", \"wb\")\n",
    "pickle.dump(clf, pickle_out)\n",
    "pickle_out.close()"
   ]
  },
  {
   "cell_type": "code",
   "execution_count": null,
   "id": "cb6d33da",
   "metadata": {},
   "outputs": [],
   "source": []
  }
 ],
 "metadata": {
  "kernelspec": {
   "display_name": "Python 3 (ipykernel)",
   "language": "python",
   "name": "python3"
  },
  "language_info": {
   "codemirror_mode": {
    "name": "ipython",
    "version": 3
   },
   "file_extension": ".py",
   "mimetype": "text/x-python",
   "name": "python",
   "nbconvert_exporter": "python",
   "pygments_lexer": "ipython3",
   "version": "3.9.12"
  }
 },
 "nbformat": 4,
 "nbformat_minor": 5
}
